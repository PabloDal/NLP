{
 "cells": [
  {
   "cell_type": "code",
   "execution_count": 1,
   "metadata": {
    "_cell_guid": "b1076dfc-b9ad-4769-8c92-a6c4dae69d19",
    "_uuid": "8f2839f25d086af736a60e9eeb907d3b93b6e0e5"
   },
   "outputs": [],
   "source": [
    "import pandas as pd\n",
    "import numpy as np\n",
    "import tensorflow as tf\n",
    "import tensorflow_hub as hub\n",
    "import time\n",
    "from sklearn import feature_extraction, linear_model, model_selection, preprocessing\n",
    "from sklearn.metrics import classification_report\n",
    "from tensorflow.keras.optimizers import Adam, SGD\n",
    "from tensorflow.keras.layers import Dense, Input, BatchNormalization, Dropout, Concatenate\n",
    "from tensorflow.keras.models import Model, Sequential\n",
    "from tensorflow.keras.callbacks import ModelCheckpoint\n",
    "from sklearn.linear_model import LogisticRegression\n",
    "from sklearn.ensemble import BaggingClassifier"
   ]
  },
  {
   "cell_type": "code",
   "execution_count": 2,
   "metadata": {
    "_cell_guid": "79c7e3d0-c299-4dcb-8224-4455121ee9b0",
    "_uuid": "d629ff2d2480ee46fbb7e2d37f6b5fab8052498a"
   },
   "outputs": [],
   "source": [
    "train = pd.read_csv(\"/kaggle/input/nlp-getting-started/train.csv\")\n",
    "test = pd.read_csv(\"/kaggle/input/nlp-getting-started/test.csv\")\n",
    "submission = pd.read_csv(\"/kaggle/input/nlp-getting-started/sample_submission.csv\")"
   ]
  },
  {
   "cell_type": "code",
   "execution_count": 3,
   "metadata": {},
   "outputs": [],
   "source": [
    "train_data = train.text.values\n",
    "train_labels = train.target.values\n",
    "test_data = test.text.values"
   ]
  },
  {
   "cell_type": "code",
   "execution_count": 4,
   "metadata": {},
   "outputs": [],
   "source": [
    "count_vectorizer = feature_extraction.text.CountVectorizer()\n",
    "\n",
    "train_vectors = count_vectorizer.fit_transform(train_data)\n",
    "test_vectors = count_vectorizer.transform(test_data)"
   ]
  },
  {
   "cell_type": "code",
   "execution_count": 5,
   "metadata": {},
   "outputs": [],
   "source": [
    "X_train, X_test, y_train, y_test = model_selection.train_test_split(train_vectors, train_labels, test_size=0.7, random_state=5)"
   ]
  },
  {
   "cell_type": "code",
   "execution_count": 6,
   "metadata": {},
   "outputs": [
    {
     "name": "stdout",
     "output_type": "stream",
     "text": [
      "Fitting 3 folds for each of 1 candidates, totalling 3 fits\n"
     ]
    },
    {
     "name": "stderr",
     "output_type": "stream",
     "text": [
      "[Parallel(n_jobs=-1)]: Using backend LokyBackend with 4 concurrent workers.\n"
     ]
    },
    {
     "name": "stdout",
     "output_type": "stream",
     "text": [
      "{'C': 0.72}\n",
      "0.7555847568988173\n",
      "              precision    recall  f1-score   support\n",
      "\n",
      "           0       0.78      0.87      0.82      3024\n",
      "           1       0.80      0.68      0.74      2306\n",
      "\n",
      "    accuracy                           0.79      5330\n",
      "   macro avg       0.79      0.78      0.78      5330\n",
      "weighted avg       0.79      0.79      0.79      5330\n",
      "\n",
      "CPU times: user 222 ms, sys: 239 ms, total: 461 ms\n",
      "Wall time: 2.64 s\n"
     ]
    },
    {
     "name": "stderr",
     "output_type": "stream",
     "text": [
      "[Parallel(n_jobs=-1)]: Done   3 out of   3 | elapsed:    2.5s finished\n",
      "/opt/conda/lib/python3.6/site-packages/sklearn/linear_model/logistic.py:432: FutureWarning: Default solver will be changed to 'lbfgs' in 0.22. Specify a solver to silence this warning.\n",
      "  FutureWarning)\n"
     ]
    }
   ],
   "source": [
    "%%time\n",
    "#Logistic regression\n",
    "\n",
    "params = {'C': [0.72],}\n",
    "\n",
    "lr = LogisticRegression()\n",
    "lrgrid = model_selection.GridSearchCV(lr, param_grid=params, cv=3, verbose=1, n_jobs=-1)\n",
    "lrgrid.fit(X_train, y_train)\n",
    "\n",
    "print(lrgrid.best_params_)\n",
    "print(lrgrid.best_score_)\n",
    "\n",
    "lr_pred = lrgrid.predict(X_test)\n",
    "print(classification_report(y_test, lr_pred))"
   ]
  },
  {
   "cell_type": "code",
   "execution_count": 7,
   "metadata": {},
   "outputs": [
    {
     "name": "stderr",
     "output_type": "stream",
     "text": [
      "[Parallel(n_jobs=-1)]: Using backend LokyBackend with 4 concurrent workers.\n"
     ]
    },
    {
     "name": "stdout",
     "output_type": "stream",
     "text": [
      "Fitting 3 folds for each of 1 candidates, totalling 3 fits\n"
     ]
    },
    {
     "name": "stderr",
     "output_type": "stream",
     "text": [
      "[Parallel(n_jobs=-1)]: Done   3 out of   3 | elapsed:    4.8s finished\n",
      "/opt/conda/lib/python3.6/site-packages/sklearn/linear_model/logistic.py:432: FutureWarning: Default solver will be changed to 'lbfgs' in 0.22. Specify a solver to silence this warning.\n",
      "  FutureWarning)\n"
     ]
    },
    {
     "name": "stdout",
     "output_type": "stream",
     "text": [
      "{'max_features': 1.0, 'max_samples': 1.0, 'n_estimators': 100}\n",
      "0.7529566360052562\n",
      "              precision    recall  f1-score   support\n",
      "\n",
      "           0       0.77      0.88      0.83      3024\n",
      "           1       0.81      0.66      0.73      2306\n",
      "\n",
      "    accuracy                           0.79      5330\n",
      "   macro avg       0.79      0.77      0.78      5330\n",
      "weighted avg       0.79      0.79      0.78      5330\n",
      "\n",
      "CPU times: user 11.5 s, sys: 11.4 s, total: 22.9 s\n",
      "Wall time: 10.6 s\n"
     ]
    }
   ],
   "source": [
    "%%time\n",
    "#Bagging\n",
    "\n",
    "params = {'n_estimators': [100],\n",
    "         'max_features': [1.0],\n",
    "         'max_samples': [1.0],}\n",
    "\n",
    "blr = BaggingClassifier(base_estimator=LogisticRegression(C=0.72))\n",
    "blrgrid = model_selection.GridSearchCV(blr, param_grid=params, cv=3, verbose=1, n_jobs=-1)\n",
    "blrgrid.fit(X_train, y_train)\n",
    "\n",
    "print(blrgrid.best_params_)\n",
    "print(blrgrid.best_score_)\n",
    "\n",
    "blr_pred = blrgrid.predict(X_test)\n",
    "print(classification_report(y_test, blr_pred))"
   ]
  },
  {
   "cell_type": "code",
   "execution_count": 8,
   "metadata": {},
   "outputs": [
    {
     "name": "stdout",
     "output_type": "stream",
     "text": [
      "CPU times: user 1min, sys: 8.04 s, total: 1min 8s\n",
      "Wall time: 1min 11s\n"
     ]
    }
   ],
   "source": [
    "%%time\n",
    "#encoder\n",
    "module_url = 'https://tfhub.dev/google/universal-sentence-encoder-large/4'\n",
    "embed = hub.KerasLayer(module_url, trainable=True, name='USE_embedding')"
   ]
  },
  {
   "cell_type": "code",
   "execution_count": 9,
   "metadata": {},
   "outputs": [],
   "source": [
    "#Embeded model\n",
    "def build_model(embed):\n",
    "    \n",
    "    model = Sequential([\n",
    "        Input(shape=[], dtype=tf.string),\n",
    "        embed,\n",
    "        Dense(1, activation='sigmoid')\n",
    "    ])\n",
    "    model.compile(Adam(2e-5), loss='binary_crossentropy', metrics=['accuracy'])\n",
    "    \n",
    "    return model"
   ]
  },
  {
   "cell_type": "code",
   "execution_count": 10,
   "metadata": {},
   "outputs": [],
   "source": [
    "#Non-Embeded Model\n",
    "def build_model2():\n",
    "    \n",
    "    model = Sequential([\n",
    "        Input(shape=[21637,],),\n",
    "        Dense(1, activation='sigmoid')\n",
    "    ])\n",
    "    model.compile(Adam(2e-5), loss='binary_crossentropy', metrics=['accuracy'])\n",
    "    \n",
    "    return model"
   ]
  },
  {
   "cell_type": "code",
   "execution_count": 11,
   "metadata": {},
   "outputs": [
    {
     "name": "stdout",
     "output_type": "stream",
     "text": [
      "Model: \"sequential\"\n",
      "_________________________________________________________________\n",
      "Layer (type)                 Output Shape              Param #   \n",
      "=================================================================\n",
      "USE_embedding (KerasLayer)   {'outputs': (None, 512)}  147354880 \n",
      "_________________________________________________________________\n",
      "dense (Dense)                (None, 1)                 513       \n",
      "=================================================================\n",
      "Total params: 147,355,393\n",
      "Trainable params: 147,355,393\n",
      "Non-trainable params: 0\n",
      "_________________________________________________________________\n",
      "Model: \"sequential_1\"\n",
      "_________________________________________________________________\n",
      "Layer (type)                 Output Shape              Param #   \n",
      "=================================================================\n",
      "dense_1 (Dense)              (None, 1)                 21638     \n",
      "=================================================================\n",
      "Total params: 21,638\n",
      "Trainable params: 21,638\n",
      "Non-trainable params: 0\n",
      "_________________________________________________________________\n"
     ]
    }
   ],
   "source": [
    "model = build_model(embed)\n",
    "model.summary()\n",
    "\n",
    "model2 = build_model2()\n",
    "model2.summary()"
   ]
  },
  {
   "cell_type": "code",
   "execution_count": 12,
   "metadata": {},
   "outputs": [
    {
     "name": "stdout",
     "output_type": "stream",
     "text": [
      "Train on 5709 samples, validate on 1904 samples\n",
      "Epoch 1/4\n",
      "5709/5709 [==============================] - 334s 58ms/sample - loss: 0.5955 - accuracy: 0.7690 - val_loss: 0.4813 - val_accuracy: 0.8183\n",
      "Epoch 2/4\n",
      "5709/5709 [==============================] - 231s 40ms/sample - loss: 0.4390 - accuracy: 0.8411 - val_loss: 0.4462 - val_accuracy: 0.8199\n",
      "Epoch 3/4\n",
      "5709/5709 [==============================] - 228s 40ms/sample - loss: 0.3819 - accuracy: 0.8788 - val_loss: 0.4452 - val_accuracy: 0.8225\n",
      "Epoch 4/4\n",
      "5709/5709 [==============================] - 217s 38ms/sample - loss: 0.3467 - accuracy: 0.9009 - val_loss: 0.4502 - val_accuracy: 0.8178\n",
      "CPU times: user 53min 3s, sys: 2min 14s, total: 55min 18s\n",
      "Wall time: 16min 48s\n"
     ]
    }
   ],
   "source": [
    "%%time\n",
    "checkpoint = ModelCheckpoint('model.h5', monitor='val_loss', save_best_only=True)\n",
    "\n",
    "train_history = model.fit(\n",
    "    train_data, train_labels,\n",
    "    validation_split=0.25,\n",
    "    epochs=4,\n",
    "    callbacks=[checkpoint],\n",
    "    batch_size=32\n",
    ")"
   ]
  },
  {
   "cell_type": "code",
   "execution_count": 13,
   "metadata": {},
   "outputs": [
    {
     "name": "stdout",
     "output_type": "stream",
     "text": [
      "Train on 5709 samples, validate on 1904 samples\n",
      "Epoch 1/4\n",
      "5709/5709 [==============================] - 1s 250us/sample - loss: 0.6916 - accuracy: 0.5372 - val_loss: 0.6920 - val_accuracy: 0.5221\n",
      "Epoch 2/4\n",
      "5709/5709 [==============================] - 1s 164us/sample - loss: 0.6890 - accuracy: 0.5842 - val_loss: 0.6904 - val_accuracy: 0.5546\n",
      "Epoch 3/4\n",
      "5709/5709 [==============================] - 1s 165us/sample - loss: 0.6864 - accuracy: 0.6224 - val_loss: 0.6887 - val_accuracy: 0.5804\n",
      "Epoch 4/4\n",
      "5709/5709 [==============================] - 1s 159us/sample - loss: 0.6839 - accuracy: 0.6546 - val_loss: 0.6870 - val_accuracy: 0.6024\n",
      "CPU times: user 8.92 s, sys: 2.11 s, total: 11 s\n",
      "Wall time: 6.4 s\n"
     ]
    }
   ],
   "source": [
    "%%time\n",
    "checkpoint = ModelCheckpoint('model2.h5', monitor='val_loss', save_best_only=True)\n",
    "\n",
    "train_history = model2.fit(\n",
    "    train_vectors.toarray(), train_labels,\n",
    "    validation_split=0.25,\n",
    "    epochs=4,\n",
    "    callbacks=[checkpoint],\n",
    "    batch_size=32\n",
    ")"
   ]
  },
  {
   "cell_type": "code",
   "execution_count": 14,
   "metadata": {},
   "outputs": [],
   "source": [
    "#Preds\n",
    "model.load_weights('model.h5')\n",
    "model2.load_weights('model2.h5')\n",
    "\n",
    "test_pred = model.predict(test_data)\n",
    "test_pred2 = model2.predict(test_vectors.toarray())\n",
    "test_pred_lr = lrgrid.predict(test_vectors)\n",
    "test_pred_blr = blrgrid.predict(test_vectors)"
   ]
  },
  {
   "cell_type": "code",
   "execution_count": 15,
   "metadata": {},
   "outputs": [],
   "source": [
    "#Submits\n",
    "submission['target'] = test_pred.round().astype(int)\n",
    "submission.to_csv('submission.csv', index=False)\n",
    "#F-score 0.81595\n",
    "submission['target'] = test_pred2.round().astype(int)\n",
    "submission.to_csv('submission2.csv', index=False)\n",
    "#F-score 0.63394\n",
    "submission['target'] = test_pred_lr.round().astype(int)\n",
    "submission.to_csv('submissionlr.csv', index=False)\n",
    "#F-score 0.77811\n",
    "submission['target'] = test_pred_blr.round().astype(int)\n",
    "submission.to_csv('submissionblr.csv', index=False)\n",
    "#F-score 0.77402"
   ]
  }
 ],
 "metadata": {
  "kernelspec": {
   "display_name": "Python 3",
   "language": "python",
   "name": "python3"
  },
  "language_info": {
   "codemirror_mode": {
    "name": "ipython",
    "version": 3
   },
   "file_extension": ".py",
   "mimetype": "text/x-python",
   "name": "python",
   "nbconvert_exporter": "python",
   "pygments_lexer": "ipython3",
   "version": "3.6.6"
  }
 },
 "nbformat": 4,
 "nbformat_minor": 1
}
